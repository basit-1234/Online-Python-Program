{
 "cells": [
  {
   "cell_type": "code",
   "execution_count": 1,
   "id": "c4b9404f",
   "metadata": {},
   "outputs": [
    {
     "name": "stdout",
     "output_type": "stream",
     "text": [
      "Enter English Marks30\n",
      "Enter Maths Marks45\n",
      "Enter Islamiat Marks30\n",
      "E\n"
     ]
    }
   ],
   "source": [
    "eng = int(input(\"Enter English Marks\"));\n",
    "maths = int(input(\"Enter Maths Marks\"));\n",
    "isl = int (input(\"Enter Islamiat Marks\"));\n",
    "total = 300;\n",
    "percent = (eng + maths + isl)/total*100;\n",
    "if percent < 100 and percent >= 80:\n",
    "    pritn (\"A+\");\n",
    "elif percent < 80 and percent >= 70:\n",
    "    print (\"A\");\n",
    "elif percent < 70 and percent >= 60:\n",
    "    print (\"B\");    \n",
    "elif percent < 60 and percent >= 50:\n",
    "    print (\"C\");\n",
    "elif percent < 50 and percent >= 40:\n",
    "    print (\"D\");\n",
    "elif percent < 40 and percent >= 33:\n",
    "    print (\"E\");\n",
    "elif percent < 0 and percent > 100:\n",
    "    print (\"You Did Not Write Correct Percent\");\n",
    "else:\n",
    "    print (\"Fail\")\n",
    "\n",
    "    \n",
    "    \n",
    "    \n",
    "    "
   ]
  },
  {
   "cell_type": "code",
   "execution_count": null,
   "id": "83c10b22",
   "metadata": {},
   "outputs": [],
   "source": []
  }
 ],
 "metadata": {
  "kernelspec": {
   "display_name": "Python 3",
   "language": "python",
   "name": "python3"
  },
  "language_info": {
   "codemirror_mode": {
    "name": "ipython",
    "version": 3
   },
   "file_extension": ".py",
   "mimetype": "text/x-python",
   "name": "python",
   "nbconvert_exporter": "python",
   "pygments_lexer": "ipython3",
   "version": "3.8.8"
  }
 },
 "nbformat": 4,
 "nbformat_minor": 5
}
